{
 "cells": [
  {
   "cell_type": "code",
   "execution_count": 1,
   "id": "41fa3cbf",
   "metadata": {},
   "outputs": [],
   "source": [
    "import requests\n"
   ]
  },
  {
   "cell_type": "code",
   "execution_count": 4,
   "id": "52cd731a",
   "metadata": {},
   "outputs": [],
   "source": [
    "search_url=\"https://api.yelp.com/v3/businesses/search\"\n"
   ]
  },
  {
   "cell_type": "code",
   "execution_count": 5,
   "id": "bbd150b4",
   "metadata": {},
   "outputs": [],
   "source": [
    "import json\n",
    "with open('/Users/paula/.secret/yelp_api.json') as f:\n",
    "    login = json.load(f)\n",
    "\n"
   ]
  },
  {
   "cell_type": "code",
   "execution_count": 7,
   "id": "0bc25883",
   "metadata": {},
   "outputs": [],
   "source": [
    "headers = {'Authorization': 'Bearer {}'.format(login['api-key'])}\n"
   ]
  },
  {
   "cell_type": "code",
   "execution_count": 9,
   "id": "0e52a618",
   "metadata": {},
   "outputs": [],
   "source": [
    "#search example\n",
    "\n",
    "params = {\"term\": 'Crab Cakes',\n",
    "          \"location\": \"Baltimore, MD\", \"offset\" : 20}\n",
    "\n"
   ]
  },
  {
   "cell_type": "code",
   "execution_count": 10,
   "id": "95f00b99",
   "metadata": {},
   "outputs": [
    {
     "data": {
      "text/plain": [
       "<Response [200]>"
      ]
     },
     "execution_count": 10,
     "metadata": {},
     "output_type": "execute_result"
    }
   ],
   "source": [
    "## Provide API Key in header\n",
    "headers = {'Authorization': 'Bearer {}'.format(login['api-key'])}\n",
    "## specify query parameters\n",
    "params = {\"term\": 'Crab Cakes',\n",
    "        \"location\": \"Baltimore, MD\"}\n",
    "## Use requests.get and save the response\n",
    "response = requests.get(search_url, headers=headers, params=params)\n",
    "response\n"
   ]
  },
  {
   "cell_type": "code",
   "execution_count": 11,
   "id": "757ef43c",
   "metadata": {},
   "outputs": [
    {
     "data": {
      "text/plain": [
       "True"
      ]
     },
     "execution_count": 11,
     "metadata": {},
     "output_type": "execute_result"
    }
   ],
   "source": [
    "# confirming the request returned a result\n",
    "response.ok\n"
   ]
  },
  {
   "cell_type": "code",
   "execution_count": 12,
   "id": "2c814d34",
   "metadata": {},
   "outputs": [
    {
     "data": {
      "text/plain": [
       "dict_keys(['businesses', 'total', 'region'])"
      ]
     },
     "execution_count": 12,
     "metadata": {},
     "output_type": "execute_result"
    }
   ],
   "source": [
    "results = response.json()\n",
    "results.keys()\n",
    "\n"
   ]
  },
  {
   "cell_type": "code",
   "execution_count": null,
   "id": "6f8dae50",
   "metadata": {},
   "outputs": [],
   "source": []
  }
 ],
 "metadata": {
  "kernelspec": {
   "display_name": "Python (dojo-env)",
   "language": "python",
   "name": "dojo-env"
  },
  "language_info": {
   "codemirror_mode": {
    "name": "ipython",
    "version": 3
   },
   "file_extension": ".py",
   "mimetype": "text/x-python",
   "name": "python",
   "nbconvert_exporter": "python",
   "pygments_lexer": "ipython3",
   "version": "3.8.13"
  },
  "toc": {
   "base_numbering": 1,
   "nav_menu": {},
   "number_sections": false,
   "sideBar": true,
   "skip_h1_title": false,
   "title_cell": "Table of Contents",
   "title_sidebar": "Contents",
   "toc_cell": false,
   "toc_position": {},
   "toc_section_display": true,
   "toc_window_display": false
  }
 },
 "nbformat": 4,
 "nbformat_minor": 5
}
